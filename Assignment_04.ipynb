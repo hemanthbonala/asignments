{
  "nbformat": 4,
  "nbformat_minor": 0,
  "metadata": {
    "colab": {
      "name": "Assignment-04.ipynb",
      "provenance": []
    },
    "kernelspec": {
      "name": "python3",
      "display_name": "Python 3"
    },
    "language_info": {
      "name": "python"
    }
  },
  "cells": [
    {
      "cell_type": "code",
      "execution_count": null,
      "metadata": {
        "colab": {
          "base_uri": "https://localhost:8080/"
        },
        "id": "gCEB56bQ6mgV",
        "outputId": "65d51216-80b2-4fcf-950d-d3d93e3acb24"
      },
      "outputs": [
        {
          "output_type": "stream",
          "name": "stdout",
          "text": [
            "enter a number for finding factorial: 5\n",
            "the factorial of 5 is 120\n"
          ]
        }
      ],
      "source": [
        "# q1\n",
        "number=int(input(\"enter a number for finding factorial: \"))\n",
        "factorial=1\n",
        "for i in range(1,number+1):\n",
        "  factorial *= i\n",
        "print(\"the factorial of {} is {}\".format(number,factorial))\n"
      ]
    },
    {
      "cell_type": "code",
      "source": [
        "# q2\n",
        "num=int(input(\"enter a number to display its multiplication table: \"))\n",
        "for i in range(1,11):\n",
        "  print(\"{} x {}  = {}\".format(num,i,num*i))"
      ],
      "metadata": {
        "colab": {
          "base_uri": "https://localhost:8080/"
        },
        "id": "3jU1BIi370uB",
        "outputId": "c359c509-5ee7-4330-e170-3123f608b1d5"
      },
      "execution_count": null,
      "outputs": [
        {
          "output_type": "stream",
          "name": "stdout",
          "text": [
            "enter a number to display its multiplication table: 5\n",
            "5 x 1  = 5\n",
            "5 x 2  = 10\n",
            "5 x 3  = 15\n",
            "5 x 4  = 20\n",
            "5 x 5  = 25\n",
            "5 x 6  = 30\n",
            "5 x 7  = 35\n",
            "5 x 8  = 40\n",
            "5 x 9  = 45\n",
            "5 x 10  = 50\n"
          ]
        }
      ]
    },
    {
      "cell_type": "code",
      "source": [
        "# q3\n",
        "a=0\n",
        "b=1\n",
        "n=int(input(\"enter no.of values you want to print from fibonacci series: \"))\n",
        "i=0\n",
        "print(\"the first n values of fibonacci series are: \")\n",
        "print()\n",
        "print(a)\n",
        "print(b)\n",
        "while i<n-2:\n",
        "  c=a+b\n",
        "  print(c)\n",
        "  b=c\n",
        "  a=b\n",
        "  i+=1\n"
      ],
      "metadata": {
        "id": "uQRltc929ner",
        "colab": {
          "base_uri": "https://localhost:8080/"
        },
        "outputId": "77ef7bc1-4c70-4067-a05a-1d92fd3004dc"
      },
      "execution_count": 11,
      "outputs": [
        {
          "output_type": "stream",
          "name": "stdout",
          "text": [
            "enter no.of values you want to print from fibonacci series: 7\n",
            "the first n values of fibonacci series are: \n",
            "\n",
            "0\n",
            "1\n",
            "1\n",
            "2\n",
            "4\n",
            "8\n",
            "16\n"
          ]
        }
      ]
    },
    {
      "cell_type": "code",
      "source": [
        "# q4\n",
        "num=int(input(\"enter number to check for armstrong number or not: \"))\n",
        "temp=num\n",
        "digits=0\n",
        "while num >0:\n",
        "  digits+=1\n",
        "  num =int(num/10)\n",
        "sum=0\n",
        "num=temp\n",
        "while num > 0:\n",
        "  rem=num % 10\n",
        "  sum=sum + rem**digits\n",
        "  num=int(num/10)\n",
        "if sum == temp :\n",
        "   print(\"the entered number is armstrong number\")\n",
        "else:\n",
        "  print(\"the entered number is not an armstrong number\")\n",
        "\n",
        "\n",
        "\n",
        "  "
      ],
      "metadata": {
        "colab": {
          "base_uri": "https://localhost:8080/"
        },
        "id": "X42CTLFw-S4R",
        "outputId": "d9f4fd08-e006-4da5-b844-12f929283612"
      },
      "execution_count": null,
      "outputs": [
        {
          "output_type": "stream",
          "name": "stdout",
          "text": [
            "enter number to check for armstrong number or not: 12\n",
            "the entered number is not an armstrong number\n"
          ]
        }
      ]
    },
    {
      "cell_type": "code",
      "source": [
        "# q5\n",
        "low=int(input(\"enter lower boundary: \"))\n",
        "hig=int(input(\"enter higher boundary: \"))\n",
        "print(\"armstrong numbers among the given range are: \")\n",
        "for num in range(low,hig+1):\n",
        "   temp=num\n",
        "   digits=0\n",
        "   while num >0:\n",
        "     digits+=1\n",
        "     num =int(num/10)\n",
        "   sum=0\n",
        "   num=temp\n",
        "   while num > 0:\n",
        "      rem=num % 10\n",
        "      sum=sum + rem**digits\n",
        "      num=int(num/10)\n",
        "   if sum == temp :\n",
        "      print(temp)\n",
        "\n"
      ],
      "metadata": {
        "id": "ae8hHvvwBEMe",
        "colab": {
          "base_uri": "https://localhost:8080/"
        },
        "outputId": "381f92b0-1f7e-4631-a7d2-06fe3d2c0ad2"
      },
      "execution_count": 6,
      "outputs": [
        {
          "output_type": "stream",
          "name": "stdout",
          "text": [
            "enter lower boundary: 100\n",
            "enter higher boundary: 1000\n",
            "armstrong numbers among the given range are: \n",
            "153\n",
            "370\n",
            "371\n",
            "407\n"
          ]
        }
      ]
    },
    {
      "cell_type": "code",
      "source": [
        "# q6\n",
        "n=int(input(\"enter the n value : \"))\n",
        "sum=((n)*(n+1))/2\n",
        "print(\"sum of first {} natural numbers is {}\".format(n,sum))"
      ],
      "metadata": {
        "colab": {
          "base_uri": "https://localhost:8080/"
        },
        "id": "kN16immcCXTc",
        "outputId": "0eeff5d5-3b72-43f7-dd53-d899d3d80c00"
      },
      "execution_count": 5,
      "outputs": [
        {
          "output_type": "stream",
          "name": "stdout",
          "text": [
            "enter the n value : 5\n",
            "sum of first 5 natural numbers is 15.0\n"
          ]
        }
      ]
    },
    {
      "cell_type": "code",
      "source": [
        ""
      ],
      "metadata": {
        "id": "jZGrFzAJDn_6"
      },
      "execution_count": null,
      "outputs": []
    }
  ]
}