{
  "nbformat": 4,
  "nbformat_minor": 0,
  "metadata": {
    "colab": {
      "name": "assignment-7.ipynb",
      "provenance": []
    },
    "kernelspec": {
      "name": "python3",
      "display_name": "Python 3"
    },
    "language_info": {
      "name": "python"
    }
  },
  "cells": [
    {
      "cell_type": "markdown",
      "source": [
        "question-1"
      ],
      "metadata": {
        "id": "OOVNaXb1OzXy"
      }
    },
    {
      "cell_type": "code",
      "execution_count": null,
      "metadata": {
        "colab": {
          "base_uri": "https://localhost:8080/"
        },
        "id": "TrM1cZONJ-NV",
        "outputId": "7b66b3af-76a8-4f85-ba52-781654958016"
      },
      "outputs": [
        {
          "output_type": "stream",
          "name": "stdout",
          "text": [
            "enter numbers  to array and enter s to stop: 1\n",
            "enter numbers  to array and enter s to stop: 2\n",
            "enter numbers  to array and enter s to stop: 3\n",
            "enter numbers  to array and enter s to stop: 4\n",
            "enter numbers  to array and enter s to stop: 5\n",
            "enter numbers  to array and enter s to stop: 6\n",
            "enter numbers  to array and enter s to stop: 7\n",
            "enter numbers  to array and enter s to stop: 8.5\n",
            "enter numbers  to array and enter s to stop: 9.5\n",
            "enter numbers  to array and enter s to stop: S\n",
            "sum of entered array is 46.0\n"
          ]
        }
      ],
      "source": [
        "l=[]\n",
        "sum=0\n",
        "while True:\n",
        "  temp=input(\"enter numbers  to array and enter s to stop: \")\n",
        "  if temp=='s':\n",
        "    break\n",
        "  elif temp=='S':\n",
        "    break\n",
        "  else:\n",
        "    try:\n",
        "      l.append(float(temp))\n",
        "    except:\n",
        "      pass\n",
        "for j in l:\n",
        "  sum+=j\n",
        "print(\"sum of entered array is {}\".format(sum))"
      ]
    },
    {
      "cell_type": "markdown",
      "source": [
        "question-2"
      ],
      "metadata": {
        "id": "e1_sbAZ6O4vB"
      }
    },
    {
      "cell_type": "code",
      "source": [
        "max=0\n",
        "l=[]\n",
        "while True:\n",
        "  temp=input(\"enter number to array or s to stop: \")\n",
        "  if temp=='s' or temp=='S':\n",
        "    break\n",
        "  else:\n",
        "    try:\n",
        "      l.append(float(temp))\n",
        "    except:\n",
        "      pass\n",
        "for i in l:\n",
        "  if i > max:\n",
        "    max=i\n",
        "print(\"the max number among the entered array is {}\".format(max)) "
      ],
      "metadata": {
        "id": "9SwTqkVhLs4J",
        "colab": {
          "base_uri": "https://localhost:8080/"
        },
        "outputId": "12046318-49bb-4a01-9dd2-f5bae93353fb"
      },
      "execution_count": null,
      "outputs": [
        {
          "output_type": "stream",
          "name": "stdout",
          "text": [
            "enter number to array or s to stop: 2\n",
            "enter number to array or s to stop: 65.4\n",
            "enter number to array or s to stop: 32.4\n",
            "enter number to array or s to stop: 23\n",
            "enter number to array or s to stop: 11\n",
            "enter number to array or s to stop: 234\n",
            "enter number to array or s to stop: 22\n",
            "enter number to array or s to stop: s\n",
            "the max number among the entered array is 234.0\n"
          ]
        }
      ]
    },
    {
      "cell_type": "markdown",
      "source": [
        "question-3\n"
      ],
      "metadata": {
        "id": "cgMt2w5kY9Ki"
      }
    },
    {
      "cell_type": "code",
      "source": [
        "import logging as lg\n",
        "def right_rotation(p,n):\n",
        "\n",
        "  l2=[]\n",
        "  for i in range(n):\n",
        "    l2.append(p[i])\n",
        "  for i in range(n,len(p)):\n",
        "    p[i-n]=p[i]\n",
        "  j=0\n",
        "  for i in range(len(p)-n,len(p)):\n",
        "    p[i]=l2[j]\n",
        "    j+=1\n",
        "  return p\n",
        "\n",
        "def print_array(p):\n",
        "   for i in range(len(p)):\n",
        "     print(p[i],end=\" \") \n",
        "\n",
        "print(\"ARRAY ROTATION\\n\\n\\n\")\n",
        "lg.basicConfig(filename='errors.log',filemode='w',format='%(asctime)s %(message)s')\n",
        "l=[]\n",
        "print(\"enter array element and s to stop: \")\n",
        "while True:\n",
        "  temp=input(\"enter number: \")\n",
        "  if temp=='s' or temp=='S':\n",
        "    break\n",
        "  else:\n",
        "    try:\n",
        "      l.append(int(temp))\n",
        "    except Exception as e:\n",
        "      try:\n",
        "        l.append(float(temp))\n",
        "      except Exception as e:\n",
        "         lg.warning(str(e))\n",
        "num=int(input(\"enter number of numbers to rotate in array\"))\n",
        "option=input(\"enter l to rotate it left and r to rotate it right\")\n",
        "if option.upper()=='R':\n",
        "  final_array=right_rotation(l,num)\n",
        "elif option.upper()=='L':\n",
        "  final_array=right_rotation(l,len(l)-num)\n",
        "else:\n",
        "  lg.error(\"invalid option\")\n",
        "\n",
        "\n",
        "print(\"final array is:\\n\\n\")\n",
        "print(\" \")\n",
        "print_array(final_array)\n"
      ],
      "metadata": {
        "id": "AG39-FVlVtj5",
        "colab": {
          "base_uri": "https://localhost:8080/"
        },
        "outputId": "92816f9b-9caf-43b6-cc47-c446c237001d"
      },
      "execution_count": 18,
      "outputs": [
        {
          "output_type": "stream",
          "name": "stdout",
          "text": [
            "ARRAY ROTATION\n",
            "\n",
            "\n",
            "\n",
            "enter array element and s to stop: \n",
            "enter number: 1\n",
            "enter number: 2\n",
            "enter number: 3\n",
            "enter number: 4\n",
            "enter number: 5\n",
            "enter number: 6\n",
            "enter number: 7\n",
            "enter number: 8\n",
            "enter number: 9\n",
            "enter number: s\n",
            "enter number of numbers to rotate in array4\n",
            "enter l to rotate it left and r to rotate it rightl\n",
            "final array is:\n",
            "\n",
            "\n",
            " \n",
            "6 7 8 9 1 2 3 4 5 "
          ]
        }
      ]
    },
    {
      "cell_type": "markdown",
      "source": [
        "question-4"
      ],
      "metadata": {
        "id": "iCCb-zRlZAyn"
      }
    },
    {
      "cell_type": "code",
      "source": [
        "def splitArr(arr, n, k): \n",
        "    for i in range(0, k): \n",
        "        x = arr[0]\n",
        "        for j in range(0, n-1):\n",
        "            arr[j] = arr[j + 1]\n",
        "          \n",
        "        arr[n-1] = x\n",
        "\n",
        "def print_array(p):\n",
        "   for i in range(len(p)):\n",
        "     print(p[i],end=\" \") \n",
        "\n",
        "arr = []\n",
        "print(\"enter array element and s to stop: \")\n",
        "while True:\n",
        "  temp=input(\"enter number: \")\n",
        "  if temp=='s' or temp=='S':\n",
        "    break\n",
        "  else:\n",
        "    try:\n",
        "      arr.append(int(temp))\n",
        "    except Exception as e:\n",
        "      try:\n",
        "        arr.append(float(temp))\n",
        "      except Exception as e:\n",
        "         lg.warning(str(e))\n",
        "n = len(arr)\n",
        "position = int(input(\"enter position : \"))\n",
        "  \n",
        "splitArr(arr, n, position)\n",
        "print(\"final array  is:\\n\\n\")\n",
        "print_array(arr)\n"
      ],
      "metadata": {
        "colab": {
          "base_uri": "https://localhost:8080/"
        },
        "id": "eZz7npDSODu1",
        "outputId": "53442296-ac65-4a7a-c533-1d2b8ace0435"
      },
      "execution_count": 17,
      "outputs": [
        {
          "output_type": "stream",
          "name": "stdout",
          "text": [
            "enter array element and s to stop: \n",
            "enter number: 1\n",
            "enter number: 2\n",
            "enter number: 3\n",
            "enter number: 4\n",
            "enter number: 5\n",
            "enter number: 6\n",
            "enter number: 7\n",
            "enter number: 8\n",
            "enter number: 9\n",
            "enter number: s\n",
            "enter position : 3\n",
            "final array  is:\n",
            "\n",
            "\n",
            "4 5 6 7 8 9 1 2 3 "
          ]
        }
      ]
    },
    {
      "cell_type": "markdown",
      "source": [
        "question-5"
      ],
      "metadata": {
        "id": "vPFp7khYZFL9"
      }
    },
    {
      "cell_type": "code",
      "source": [
        "arr = []\n",
        "print(\"enter array element and s to stop: \")\n",
        "while True:\n",
        "  temp=input(\"enter number: \")\n",
        "  if temp=='s' or temp=='S':\n",
        "    break\n",
        "  else:\n",
        "    try:\n",
        "      arr.append(int(temp))\n",
        "    except Exception as e:\n",
        "      try:\n",
        "        arr.append(float(temp))\n",
        "      except Exception as e:\n",
        "         lg.warning(str(e))\n",
        "check_inc=1\n",
        "check_dec=1\n",
        "for i in range(len(arr)-1):\n",
        "    if arr[i] >= arr[i+1]:\n",
        "      continue\n",
        "    else:\n",
        "      check_inc=0\n",
        "      break\n",
        "\n",
        "for i in range(len(arr)-1):\n",
        "    if arr[i] <= arr[i+1]:\n",
        "      continue\n",
        "    else:\n",
        "      check_dec=0\n",
        "      break\n",
        "\n",
        "if check_inc==0 and check_dec==0:\n",
        "  print(\"the entered array  is not monotonic\")\n",
        "else:\n",
        "  print(\"the entered array is monotonic\")\n"
      ],
      "metadata": {
        "colab": {
          "base_uri": "https://localhost:8080/"
        },
        "id": "LyKW8ItqZGlT",
        "outputId": "8d1f4cc9-613c-4f22-9eb3-9774715b0ba2"
      },
      "execution_count": 22,
      "outputs": [
        {
          "output_type": "stream",
          "name": "stdout",
          "text": [
            "enter array element and s to stop: \n",
            "enter number: 1\n",
            "enter number: 2\n",
            "enter number: 2\n",
            "enter number: 2\n",
            "enter number: 3\n",
            "enter number: 4\n",
            "enter number: 5\n",
            "enter number: s\n",
            "the entered array is monotonic\n"
          ]
        }
      ]
    },
    {
      "cell_type": "code",
      "source": [
        ""
      ],
      "metadata": {
        "id": "XcGSdJ8FbzkA"
      },
      "execution_count": null,
      "outputs": []
    }
  ]
}