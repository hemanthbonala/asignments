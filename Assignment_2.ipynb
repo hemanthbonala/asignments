{
  "nbformat": 4,
  "nbformat_minor": 0,
  "metadata": {
    "colab": {
      "name": "Assignment-2.ipynb",
      "provenance": []
    },
    "kernelspec": {
      "name": "python3",
      "display_name": "Python 3"
    },
    "language_info": {
      "name": "python"
    }
  },
  "cells": [
    {
      "cell_type": "code",
      "execution_count": null,
      "metadata": {
        "colab": {
          "base_uri": "https://localhost:8080/"
        },
        "id": "2rPbmuqIZEDp",
        "outputId": "457ae4c0-5487-4b6c-cb4e-989040ee17be"
      },
      "outputs": [
        {
          "output_type": "stream",
          "name": "stdout",
          "text": [
            "enter distance in kilometers: 15\n",
            "\n",
            "15.0 kilomenters is equal to 9.320565 miles\n"
          ]
        }
      ],
      "source": [
        "# q1\n",
        "km=float(input(\"enter distance in kilometers: \"))\n",
        "miles=km*0.621371\n",
        "print()\n",
        "print(\"{} kilomenters is equal to {} miles\".format(km,miles))"
      ]
    },
    {
      "cell_type": "code",
      "source": [
        "# q2\n",
        "celsius=float(input(\"enter temperature in celsius: \"))\n",
        "fah=((9*celsius)/5)+32\n",
        "print()\n",
        "print(\"then temperature in fahrenheit is {}\".format(fah))"
      ],
      "metadata": {
        "colab": {
          "base_uri": "https://localhost:8080/"
        },
        "id": "iVKqfuxJZ6bY",
        "outputId": "8ff8f401-f84b-4331-d80b-9ca95f776784"
      },
      "execution_count": null,
      "outputs": [
        {
          "output_type": "stream",
          "name": "stdout",
          "text": [
            "enter temperature in celsius: 42\n",
            "\n",
            "then temperature in fahrenheit is 107.6\n"
          ]
        }
      ]
    },
    {
      "cell_type": "code",
      "source": [
        "# q3\n",
        "import calendar\n",
        "\n",
        "print(\"enter 1 to display monthly calender and 2 to display calendar of whole year\")\n",
        "option=int(input(\"enter your option: \"))\n",
        "if option == 1:\n",
        "  year=int(input(\"enter year: \"))\n",
        "  month=int(input(\"enter month number i.e, 1 for jan ,2 for feb etc: \"))\n",
        "  print(calendar.month(year,month))\n",
        "elif option==2:\n",
        "  year=int(input(\"enter year: \"))\n",
        "  print(calendar.calendar(year))\n",
        "else:\n",
        "  print(\"invalid option\")\n",
        "  "
      ],
      "metadata": {
        "id": "njtV6h3mbBRZ",
        "colab": {
          "base_uri": "https://localhost:8080/"
        },
        "outputId": "ff103879-1f3b-48fd-b2f4-2938898d1b82"
      },
      "execution_count": null,
      "outputs": [
        {
          "output_type": "stream",
          "name": "stdout",
          "text": [
            "enter 1 to display monthly calender and 2 to display calendar of whole year\n",
            "enter your option: 2\n",
            "enter year: 2022\n",
            "                                  2022\n",
            "\n",
            "      January                   February                   March\n",
            "Mo Tu We Th Fr Sa Su      Mo Tu We Th Fr Sa Su      Mo Tu We Th Fr Sa Su\n",
            "                1  2          1  2  3  4  5  6          1  2  3  4  5  6\n",
            " 3  4  5  6  7  8  9       7  8  9 10 11 12 13       7  8  9 10 11 12 13\n",
            "10 11 12 13 14 15 16      14 15 16 17 18 19 20      14 15 16 17 18 19 20\n",
            "17 18 19 20 21 22 23      21 22 23 24 25 26 27      21 22 23 24 25 26 27\n",
            "24 25 26 27 28 29 30      28                        28 29 30 31\n",
            "31\n",
            "\n",
            "       April                      May                       June\n",
            "Mo Tu We Th Fr Sa Su      Mo Tu We Th Fr Sa Su      Mo Tu We Th Fr Sa Su\n",
            "             1  2  3                         1             1  2  3  4  5\n",
            " 4  5  6  7  8  9 10       2  3  4  5  6  7  8       6  7  8  9 10 11 12\n",
            "11 12 13 14 15 16 17       9 10 11 12 13 14 15      13 14 15 16 17 18 19\n",
            "18 19 20 21 22 23 24      16 17 18 19 20 21 22      20 21 22 23 24 25 26\n",
            "25 26 27 28 29 30         23 24 25 26 27 28 29      27 28 29 30\n",
            "                          30 31\n",
            "\n",
            "        July                     August                  September\n",
            "Mo Tu We Th Fr Sa Su      Mo Tu We Th Fr Sa Su      Mo Tu We Th Fr Sa Su\n",
            "             1  2  3       1  2  3  4  5  6  7                1  2  3  4\n",
            " 4  5  6  7  8  9 10       8  9 10 11 12 13 14       5  6  7  8  9 10 11\n",
            "11 12 13 14 15 16 17      15 16 17 18 19 20 21      12 13 14 15 16 17 18\n",
            "18 19 20 21 22 23 24      22 23 24 25 26 27 28      19 20 21 22 23 24 25\n",
            "25 26 27 28 29 30 31      29 30 31                  26 27 28 29 30\n",
            "\n",
            "      October                   November                  December\n",
            "Mo Tu We Th Fr Sa Su      Mo Tu We Th Fr Sa Su      Mo Tu We Th Fr Sa Su\n",
            "                1  2          1  2  3  4  5  6                1  2  3  4\n",
            " 3  4  5  6  7  8  9       7  8  9 10 11 12 13       5  6  7  8  9 10 11\n",
            "10 11 12 13 14 15 16      14 15 16 17 18 19 20      12 13 14 15 16 17 18\n",
            "17 18 19 20 21 22 23      21 22 23 24 25 26 27      19 20 21 22 23 24 25\n",
            "24 25 26 27 28 29 30      28 29 30                  26 27 28 29 30 31\n",
            "31\n",
            "\n"
          ]
        }
      ]
    },
    {
      "cell_type": "code",
      "source": [
        "# q4\n",
        "a=float(input(\"enter coefficient of x**2: \"))\n",
        "b=float(input(\"enter coefficient of x: \"))\n",
        "c=float(input(\"enter constant: \"))\n",
        "\n",
        "\n",
        "root1=(-b + (b**2-4*a*c)**(1/2))/2*a\n",
        "root2=(-b - (b**2-4*a*c)**(1/2))/2*a\n",
        "print(\"the roots of given equation are  {} and {} \".format(root1,root2) )\n"
      ],
      "metadata": {
        "colab": {
          "base_uri": "https://localhost:8080/"
        },
        "id": "SivC_KuJvTO2",
        "outputId": "2eb17c2e-f858-4b34-eb2c-ed3ba69d7766"
      },
      "execution_count": null,
      "outputs": [
        {
          "output_type": "stream",
          "name": "stdout",
          "text": [
            "enter coefficient of x**2: 1\n",
            "enter coefficient of x: 4\n",
            "enter constant: 5\n",
            "the roots of given equation are  (-2+1j) and (-2-1j) \n"
          ]
        }
      ]
    },
    {
      "cell_type": "code",
      "source": [
        "# q5\n",
        "print(\"enter two values to swap\")\n",
        "num1=int(input(\"enter 1st integer: \"))\n",
        "num2=int(input(\"enter 2nd integer: \"))\n",
        "num1,num2=num2,num1\n",
        "print(\"after swapping 1st integer is \",num1)\n",
        "print(\"after swapping 2nd integer is \",num2)\n"
      ],
      "metadata": {
        "colab": {
          "base_uri": "https://localhost:8080/"
        },
        "id": "YXovAkkBwbtx",
        "outputId": "235c98f1-172b-4990-9a97-561b49f92ec2"
      },
      "execution_count": null,
      "outputs": [
        {
          "output_type": "stream",
          "name": "stdout",
          "text": [
            "enter two values to swap\n",
            "enter 1st integer: 5\n",
            "enter 2nd integer: 4\n",
            "after swapping 1st integer is  4\n",
            "after swapping 2nd integer is  5\n"
          ]
        }
      ]
    }
  ]
}