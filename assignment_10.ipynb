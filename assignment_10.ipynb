{
  "nbformat": 4,
  "nbformat_minor": 0,
  "metadata": {
    "colab": {
      "name": "assignment-10.ipynb",
      "provenance": []
    },
    "kernelspec": {
      "name": "python3",
      "display_name": "Python 3"
    },
    "language_info": {
      "name": "python"
    }
  },
  "cells": [
    {
      "cell_type": "markdown",
      "source": [
        "**List assignment**\n"
      ],
      "metadata": {
        "id": "I_n1AOMrL92j"
      }
    },
    {
      "cell_type": "markdown",
      "source": [
        "function for taking numerical input to a list"
      ],
      "metadata": {
        "id": "NvUIF_ccNXoi"
      }
    },
    {
      "cell_type": "code",
      "source": [
        "def input_list(l):\n",
        "  while True:\n",
        "    num=input(\"enter a number to list enter 's' to stop: \")\n",
        "    if(num=='s' or num=='S'):\n",
        "      break\n",
        "    try:\n",
        "      l.append(int(num))\n",
        "    except:\n",
        "      try:\n",
        "        l.append(float(num))\n",
        "      except:\n",
        "        pass\n"
      ],
      "metadata": {
        "id": "LlmmALkKI24n"
      },
      "execution_count": null,
      "outputs": []
    },
    {
      "cell_type": "markdown",
      "source": [
        "question-1"
      ],
      "metadata": {
        "id": "muOo3svwMHc7"
      }
    },
    {
      "cell_type": "code",
      "source": [
        "l=[]\n",
        "sum=0\n",
        "input_list(l)\n",
        "for i in l:\n",
        "  sum+=i\n",
        "print(\"sum of entered numbers in list is {}\".format(sum))"
      ],
      "metadata": {
        "colab": {
          "base_uri": "https://localhost:8080/"
        },
        "id": "u1-iz5rZLzrd",
        "outputId": "4ab71e6d-390d-466d-f19e-5775ff1588da"
      },
      "execution_count": null,
      "outputs": [
        {
          "output_type": "stream",
          "name": "stdout",
          "text": [
            "enter a number to list enter 's' to stop: 1\n",
            "enter a number to list enter 's' to stop: 2\n",
            "enter a number to list enter 's' to stop: 3\n",
            "enter a number to list enter 's' to stop: \n",
            "enter a number to list enter 's' to stop: 4\n",
            "enter a number to list enter 's' to stop: 5\n",
            "enter a number to list enter 's' to stop: 6.2\n",
            "enter a number to list enter 's' to stop: 7\n",
            "enter a number to list enter 's' to stop: s\n",
            "sum of entered numbers in list is 28.2\n"
          ]
        }
      ]
    },
    {
      "cell_type": "markdown",
      "source": [
        "question-2"
      ],
      "metadata": {
        "id": "Q7HeXt9gNL4j"
      }
    },
    {
      "cell_type": "code",
      "source": [
        "l=[]\n",
        "product=1\n",
        "input_list(l)\n",
        "for i in l:\n",
        "  product*=i\n",
        "print(\"product of entered numbers in list is {}\".format(product))"
      ],
      "metadata": {
        "colab": {
          "base_uri": "https://localhost:8080/"
        },
        "id": "MDpaBFlSMaJz",
        "outputId": "e729bc1b-aa6a-4e35-830a-b0fba9107c61"
      },
      "execution_count": null,
      "outputs": [
        {
          "output_type": "stream",
          "name": "stdout",
          "text": [
            "enter a number to list enter 's' to stop: 1\n",
            "enter a number to list enter 's' to stop: 2\n",
            "enter a number to list enter 's' to stop: 3\n",
            "enter a number to list enter 's' to stop: 4\n",
            "enter a number to list enter 's' to stop: 5\n",
            "enter a number to list enter 's' to stop: s\n",
            "product of entered numbers in list is 120\n"
          ]
        }
      ]
    },
    {
      "cell_type": "markdown",
      "source": [
        "question-3"
      ],
      "metadata": {
        "id": "LjOFWApgNOkC"
      }
    },
    {
      "cell_type": "code",
      "source": [
        "l=[]\n",
        "input_list(l)\n",
        "min=l[0]\n",
        "for i in l:\n",
        "  if min> i:\n",
        "    min=i\n",
        "print(\"minimum number in list is {}\".format(min))"
      ],
      "metadata": {
        "colab": {
          "base_uri": "https://localhost:8080/"
        },
        "id": "HxzAGJxQNDzH",
        "outputId": "2d468f1a-b8a4-41e8-e52e-ab309772bd14"
      },
      "execution_count": null,
      "outputs": [
        {
          "output_type": "stream",
          "name": "stdout",
          "text": [
            "enter a number to list enter 's' to stop: 1\n",
            "enter a number to list enter 's' to stop: 2\n",
            "enter a number to list enter 's' to stop: 2\n",
            "enter a number to list enter 's' to stop: 3\n",
            "enter a number to list enter 's' to stop: 7.3\n",
            "enter a number to list enter 's' to stop: -1\n",
            "enter a number to list enter 's' to stop: s\n",
            "minimum number in list is -1\n"
          ]
        }
      ]
    },
    {
      "cell_type": "markdown",
      "source": [
        "question-4"
      ],
      "metadata": {
        "id": "aLuZKqZuO4_Z"
      }
    },
    {
      "cell_type": "code",
      "source": [
        "l=[]\n",
        "input_list(l)\n",
        "max=l[0]\n",
        "for i in l:\n",
        "  if max < i:\n",
        "    max=i\n",
        "print(\"maximum number in list is {}\".format(max))"
      ],
      "metadata": {
        "colab": {
          "base_uri": "https://localhost:8080/"
        },
        "id": "SSDBkXQ3OhUr",
        "outputId": "1dbc0ca9-b6e2-48db-96a6-d5700a8dfc1a"
      },
      "execution_count": null,
      "outputs": [
        {
          "output_type": "stream",
          "name": "stdout",
          "text": [
            "enter a number to list enter 's' to stop: 1\n",
            "enter a number to list enter 's' to stop: 2\n",
            "enter a number to list enter 's' to stop: 3\n",
            "enter a number to list enter 's' to stop: 5.3\n",
            "enter a number to list enter 's' to stop: 3.4\n",
            "enter a number to list enter 's' to stop: 1111.3\n",
            "enter a number to list enter 's' to stop: s\n",
            "maximum number in list is 1111.3\n"
          ]
        }
      ]
    },
    {
      "cell_type": "markdown",
      "source": [
        "question-5"
      ],
      "metadata": {
        "id": "-KGyWEbLO7ox"
      }
    },
    {
      "cell_type": "code",
      "source": [
        "l=[]\n",
        "input_list(l)\n",
        "l.sort()\n",
        "length=len(l)-1\n",
        "ans=l[length-1]\n",
        "print(\"the second largest number  in list is {}\".format(ans))"
      ],
      "metadata": {
        "id": "8-_0JpktOzcO",
        "colab": {
          "base_uri": "https://localhost:8080/"
        },
        "outputId": "c38cd7c0-b987-4733-e8db-f904680d09f0"
      },
      "execution_count": null,
      "outputs": [
        {
          "output_type": "stream",
          "name": "stdout",
          "text": [
            "enter a number to list enter 's' to stop: 1\n",
            "enter a number to list enter 's' to stop: 2\n",
            "enter a number to list enter 's' to stop: 3\n",
            "enter a number to list enter 's' to stop: 4.2\n",
            "enter a number to list enter 's' to stop: 5.3\n",
            "enter a number to list enter 's' to stop: 9\n",
            "enter a number to list enter 's' to stop: s\n",
            "the second largest number  in list is 5.3\n"
          ]
        }
      ]
    },
    {
      "cell_type": "markdown",
      "source": [
        "question-6"
      ],
      "metadata": {
        "id": "1i2lMueokMkb"
      }
    },
    {
      "cell_type": "code",
      "source": [
        "l=[]\n",
        "input_list(l)\n",
        "l.sort()\n",
        "l.reverse()\n",
        "n=int(input(\"enter n value : \"))\n",
        "if(n>=len(l)):\n",
        "  print(\"entered wrong number\")\n",
        "else:\n",
        "  print(\"{} greatest numbers are: \\n\".format(n))\n",
        "  for i in range(n):\n",
        "    print(l[i])"
      ],
      "metadata": {
        "colab": {
          "base_uri": "https://localhost:8080/"
        },
        "id": "N1YQ4bcUj5us",
        "outputId": "b1b02181-e5c6-43d5-ba07-d3360cfbd6fd"
      },
      "execution_count": null,
      "outputs": [
        {
          "output_type": "stream",
          "name": "stdout",
          "text": [
            "enter a number to list enter 's' to stop: 2\n",
            "enter a number to list enter 's' to stop: 4\n",
            "enter a number to list enter 's' to stop: 5\n",
            "enter a number to list enter 's' to stop: 6\n",
            "enter a number to list enter 's' to stop: 5\n",
            "enter a number to list enter 's' to stop: 4\n",
            "enter a number to list enter 's' to stop: 3\n",
            "enter a number to list enter 's' to stop: 6\n",
            "enter a number to list enter 's' to stop: 9\n",
            "enter a number to list enter 's' to stop: 1234\n",
            "enter a number to list enter 's' to stop: 2345\n",
            "enter a number to list enter 's' to stop: 123456\n",
            "enter a number to list enter 's' to stop: 87654\n",
            "enter a number to list enter 's' to stop: 56.65\n",
            "enter a number to list enter 's' to stop: yyy\n",
            "enter a number to list enter 's' to stop: 655554444\n",
            "enter a number to list enter 's' to stop: s\n",
            "enter n value : 6\n",
            "6 greatest numbers are: \n",
            "\n",
            "655554444\n",
            "123456\n",
            "87654\n",
            "2345\n",
            "1234\n",
            "56.65\n"
          ]
        }
      ]
    },
    {
      "cell_type": "markdown",
      "source": [
        "question-7"
      ],
      "metadata": {
        "id": "bDB3lGS2mTXR"
      }
    },
    {
      "cell_type": "code",
      "source": [
        "l=[]\n",
        "input_list(l)\n",
        "print(\"even numbers in list are: \\n\")\n",
        "for i in l:\n",
        "  if i % 2==0:\n",
        "    print(i)\n"
      ],
      "metadata": {
        "colab": {
          "base_uri": "https://localhost:8080/"
        },
        "id": "jb24LlUwkRIS",
        "outputId": "d732da0c-cef7-4adb-aa26-c3492434c26e"
      },
      "execution_count": null,
      "outputs": [
        {
          "output_type": "stream",
          "name": "stdout",
          "text": [
            "enter a number to list enter 's' to stop: 1\n",
            "enter a number to list enter 's' to stop: 3\n",
            "enter a number to list enter 's' to stop: 4\n",
            "enter a number to list enter 's' to stop: 5\n",
            "enter a number to list enter 's' to stop: 6\n",
            "enter a number to list enter 's' to stop: 7.4\n",
            "enter a number to list enter 's' to stop: 2\n",
            "enter a number to list enter 's' to stop: s\n",
            "even numbers in list are: \n",
            "\n",
            "4\n",
            "6\n",
            "2\n"
          ]
        }
      ]
    },
    {
      "cell_type": "markdown",
      "source": [
        "question-8"
      ],
      "metadata": {
        "id": "qWh2rFJemViS"
      }
    },
    {
      "cell_type": "code",
      "source": [
        "l=[]\n",
        "input_list(l)\n",
        "print(\"odd numbers in list are: \\n\")\n",
        "for i in l:\n",
        "  if i % 2!=0:\n",
        "    print(i)"
      ],
      "metadata": {
        "colab": {
          "base_uri": "https://localhost:8080/"
        },
        "id": "6Qa-SOpkkZ8b",
        "outputId": "f741667f-78db-44e9-9cc7-0d798c4c5263"
      },
      "execution_count": null,
      "outputs": [
        {
          "output_type": "stream",
          "name": "stdout",
          "text": [
            "enter a number to list enter 's' to stop: 1\n",
            "enter a number to list enter 's' to stop: 2\n",
            "enter a number to list enter 's' to stop: 3\n",
            "enter a number to list enter 's' to stop: 4\n",
            "enter a number to list enter 's' to stop: 5\n",
            "enter a number to list enter 's' to stop: 5\n",
            "enter a number to list enter 's' to stop: 6\n",
            "enter a number to list enter 's' to stop: 7\n",
            "enter a number to list enter 's' to stop: 8\n",
            "enter a number to list enter 's' to stop: 9\n",
            "enter a number to list enter 's' to stop: s\n",
            "odd numbers in list are: \n",
            "\n",
            "1\n",
            "3\n",
            "5\n",
            "5\n",
            "7\n",
            "9\n"
          ]
        }
      ]
    },
    {
      "cell_type": "markdown",
      "source": [
        "function to take list as inpt"
      ],
      "metadata": {
        "id": "6Nb7JXwu6IOS"
      }
    },
    {
      "cell_type": "code",
      "source": [
        "def input_nested_lists(l):\n",
        "  while True:\n",
        "    data=input(\"enter data into list and enter stop to exit from entering to list: \")\n",
        "    if (data.upper()=='STOP'):\n",
        "      break\n",
        "    l.append(data)\n"
      ],
      "metadata": {
        "id": "cQytmxoOmLkZ"
      },
      "execution_count": 3,
      "outputs": []
    },
    {
      "cell_type": "markdown",
      "source": [
        "question-9\n"
      ],
      "metadata": {
        "id": "pQaJ8jKFspNl"
      }
    },
    {
      "cell_type": "code",
      "source": [
        "l=[]\n",
        "input_nested_lists(l)\n",
        "\n",
        "res=[]\n",
        "for i in range(len(l)):\n",
        "  if l[i]!='[]':\n",
        "    res.append(l[i])\n",
        "print(\"list after deleting empty list {}\".format(res))"
      ],
      "metadata": {
        "colab": {
          "base_uri": "https://localhost:8080/"
        },
        "id": "QwfTQnVms0pp",
        "outputId": "b20b0bb1-a359-4a64-e83c-c9f861d83e87"
      },
      "execution_count": 4,
      "outputs": [
        {
          "output_type": "stream",
          "name": "stdout",
          "text": [
            "enter data into list and enter stop to exit from entering to list: 1\n",
            "enter data into list and enter stop to exit from entering to list: 2\n",
            "enter data into list and enter stop to exit from entering to list: []\n",
            "enter data into list and enter stop to exit from entering to list: [\"hemanth,\"bonala\"]\n",
            "enter data into list and enter stop to exit from entering to list: [\"nit,\"jalandhar\"]\n",
            "enter data into list and enter stop to exit from entering to list: []\n",
            "enter data into list and enter stop to exit from entering to list: 3\n",
            "enter data into list and enter stop to exit from entering to list: []\n",
            "enter data into list and enter stop to exit from entering to list: mintu\n",
            "enter data into list and enter stop to exit from entering to list: stop\n",
            "list after deleting empty list ['1', '2', '[\"hemanth,\"bonala\"]', '[\"nit,\"jalandhar\"]', '3', 'mintu']\n"
          ]
        }
      ]
    },
    {
      "cell_type": "markdown",
      "source": [
        "question-10"
      ],
      "metadata": {
        "id": "bUYB0aAu6T4P"
      }
    },
    {
      "cell_type": "code",
      "source": [
        "l=[]\n",
        "l_dup=[]\n",
        "input_nested_lists(l)\n",
        "for i in l:\n",
        "  l_dup.append(i)\n"
      ],
      "metadata": {
        "colab": {
          "base_uri": "https://localhost:8080/"
        },
        "id": "-4zhVlkHs7Jd",
        "outputId": "3a0120d1-75e1-44e6-d128-d205c9ba0021"
      },
      "execution_count": 5,
      "outputs": [
        {
          "name": "stdout",
          "output_type": "stream",
          "text": [
            "enter data into list and enter stop to exit from entering to list: hemanth\n",
            "enter data into list and enter stop to exit from entering to list: [\"bonala\"]\n",
            "enter data into list and enter stop to exit from entering to list: [\"nit\"]\n",
            "enter data into list and enter stop to exit from entering to list: jalandhar\n",
            "enter data into list and enter stop to exit from entering to list: 3+4j\n",
            "enter data into list and enter stop to exit from entering to list: 1\n",
            "enter data into list and enter stop to exit from entering to list: stop\n"
          ]
        }
      ]
    },
    {
      "cell_type": "code",
      "source": [
        "l_dup"
      ],
      "metadata": {
        "colab": {
          "base_uri": "https://localhost:8080/"
        },
        "id": "u-4RjARTtzz5",
        "outputId": "75182fe7-a7f6-4e41-ac9d-d161b484b622"
      },
      "execution_count": 6,
      "outputs": [
        {
          "output_type": "execute_result",
          "data": {
            "text/plain": [
              "['hemanth', '[\"bonala\"]', '[\"nit\"]', 'jalandhar', '3+4j', '1']"
            ]
          },
          "metadata": {},
          "execution_count": 6
        }
      ]
    },
    {
      "cell_type": "code",
      "source": [
        "id(l)"
      ],
      "metadata": {
        "colab": {
          "base_uri": "https://localhost:8080/"
        },
        "id": "LUUJ8glF4HMM",
        "outputId": "106e6e0a-8db8-4f3c-e144-1593119f8082"
      },
      "execution_count": 7,
      "outputs": [
        {
          "output_type": "execute_result",
          "data": {
            "text/plain": [
              "140220736144800"
            ]
          },
          "metadata": {},
          "execution_count": 7
        }
      ]
    },
    {
      "cell_type": "code",
      "source": [
        "id(l_dup)"
      ],
      "metadata": {
        "colab": {
          "base_uri": "https://localhost:8080/"
        },
        "id": "SykMJ5sW5nN3",
        "outputId": "adac603e-6d01-4136-df66-a6e17a520afb"
      },
      "execution_count": 8,
      "outputs": [
        {
          "output_type": "execute_result",
          "data": {
            "text/plain": [
              "140220736146080"
            ]
          },
          "metadata": {},
          "execution_count": 8
        }
      ]
    },
    {
      "cell_type": "markdown",
      "source": [
        "question-11"
      ],
      "metadata": {
        "id": "FT1v0mR25_4b"
      }
    },
    {
      "cell_type": "code",
      "source": [
        "l=[]\n",
        "input_nested_lists(l)\n",
        "ser=input(\"enter element to count the occurences: \")\n",
        "count=0\n",
        "for i in l:\n",
        "  if i==ser:\n",
        "    count+=1\n",
        "print(f\"{ser} element is occured {count} times in entered list\")"
      ],
      "metadata": {
        "id": "Bzy7DSfx56X_",
        "colab": {
          "base_uri": "https://localhost:8080/"
        },
        "outputId": "e3f34fe1-7d0c-4a5d-b4d6-e2383e5d6c90"
      },
      "execution_count": 9,
      "outputs": [
        {
          "output_type": "stream",
          "name": "stdout",
          "text": [
            "enter data into list and enter stop to exit from entering to list: 1\n",
            "enter data into list and enter stop to exit from entering to list: 2\n",
            "enter data into list and enter stop to exit from entering to list: hemanth\n",
            "enter data into list and enter stop to exit from entering to list: hemanth\n",
            "enter data into list and enter stop to exit from entering to list: hemanth\n",
            "enter data into list and enter stop to exit from entering to list: mintu\n",
            "enter data into list and enter stop to exit from entering to list: []\n",
            "enter data into list and enter stop to exit from entering to list: ]\n",
            "enter data into list and enter stop to exit from entering to list: hemanth\n",
            "enter data into list and enter stop to exit from entering to list: 3\n",
            "enter data into list and enter stop to exit from entering to list: 4\n",
            "enter data into list and enter stop to exit from entering to list: 5\n",
            "enter data into list and enter stop to exit from entering to list: hemanth\n",
            "enter data into list and enter stop to exit from entering to list: stop\n",
            "enter element to count the occurences: hemanth\n",
            "hemanth element is occured 5 times in entered list\n"
          ]
        }
      ]
    },
    {
      "cell_type": "code",
      "source": [
        ""
      ],
      "metadata": {
        "id": "h5vMuqgmXiEg"
      },
      "execution_count": null,
      "outputs": []
    }
  ]
}