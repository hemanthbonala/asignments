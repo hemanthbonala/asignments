{
  "cells": [
    {
      "cell_type": "code",
      "execution_count": null,
      "metadata": {
        "colab": {
          "base_uri": "https://localhost:8080/"
        },
        "id": "BKnVacVDr02P",
        "outputId": "9d7a3d58-38a4-4494-e880-f792acd95518"
      },
      "outputs": [
        {
          "name": "stdout",
          "output_type": "stream",
          "text": [
            "enter 1st number: 20\n",
            "enter 2nd number: 3\n",
            "lcm of 20 and 3 is 60\n"
          ]
        }
      ],
      "source": [
        "# q1\n",
        "num1=int(input(\"enter 1st number: \"))\n",
        "num2=int(input(\"enter 2nd number: \"))\n",
        "if num1 > num2:\n",
        "  lcm=num1\n",
        "  while True:\n",
        "    if lcm % num1 == 0 and lcm % num2 == 0:\n",
        "      break\n",
        "    lcm+=1\n",
        "elif num2 > num1:\n",
        "  lcm=num2\n",
        "  while True:\n",
        "    if lcm %num1==0 and lcm%num2==0:\n",
        "      break\n",
        "    lcm+=1\n",
        "else:\n",
        "  lcm=num1\n",
        "print(\"lcm of {} and {} is {}\".format(num1,num2,lcm))\n",
        "    \n"
      ]
    },
    {
      "cell_type": "code",
      "execution_count": null,
      "metadata": {
        "colab": {
          "base_uri": "https://localhost:8080/"
        },
        "id": "WNZQ-QGTtfrF",
        "outputId": "1fa17877-8a3a-4206-a1b7-0380c5fe3015"
      },
      "outputs": [
        {
          "name": "stdout",
          "output_type": "stream",
          "text": [
            "enter 1st number: 15\n",
            "enter 2nd number: 20\n",
            "hcf of 15 and 20 is 5 \n"
          ]
        }
      ],
      "source": [
        "# q2\n",
        "num1=int(input(\"enter 1st number: \"))\n",
        "num2=int(input(\"enter 2nd number: \"))\n",
        "if num1 < num2:\n",
        "  hcf=num1\n",
        "  while hcf > 0:\n",
        "    if num1 % hcf == 0 and num2 % hcf == 0:\n",
        "      break\n",
        "    hcf -= 1\n",
        "elif num2 < num1:\n",
        "  hcf=num2\n",
        "  while hcf > 0:\n",
        "    if num1 % hcf == 0 and num2 % hcf == 0:\n",
        "      break\n",
        "    hcf -= 1\n",
        "else :\n",
        "  hcf=num1\n",
        "print(\"hcf of {} and {} is {} \".format(num1,num2,hcf))\n",
        "\n",
        "\n"
      ]
    },
    {
      "cell_type": "code",
      "source": [
        "# q3\n",
        "decimal=int(input(\"enter a decimal value: \"))\n",
        "option=input(\"enter b,o,h to convert it to binary,octal,hexadecimal respectively: \")\n",
        "option=option.upper()\n",
        "if option == 'B':\n",
        "  print(\"representation of {} in binary is {} \".format(decimal,bin(decimal)))\n",
        "elif option == 'O':\n",
        "  print(\"representation of {} in octal is {} \".format(decimal,oct(decimal)))\n",
        "elif option=='H':\n",
        "  print(\"representation of {} in hexadecimal is {} \".format(decimal,hex(decimal)))\n",
        "else:\n",
        "  print(\"invalid option\")\n"
      ],
      "metadata": {
        "colab": {
          "base_uri": "https://localhost:8080/"
        },
        "id": "ZjbylrpScOrn",
        "outputId": "d5007c9e-7577-4551-b4fb-52bb50632eeb"
      },
      "execution_count": 19,
      "outputs": [
        {
          "output_type": "stream",
          "name": "stdout",
          "text": [
            "enter a decimal value: 67\n",
            "enter b,o,h to convert it to binary,octal,hexadecimal respectively: b\n",
            "representation of 67 in binary is 0b1000011 \n"
          ]
        }
      ]
    },
    {
      "cell_type": "code",
      "execution_count": 4,
      "metadata": {
        "id": "YInWKN4NvW-W",
        "colab": {
          "base_uri": "https://localhost:8080/"
        },
        "outputId": "3abf1639-84b4-45ba-e768-3efd27094fa3"
      },
      "outputs": [
        {
          "output_type": "stream",
          "name": "stdout",
          "text": [
            "enter a character to check its ascii value: A\n",
            "ascii value of A is 65\n"
          ]
        }
      ],
      "source": [
        "# q4\n",
        "char=input(\"enter a character to check its ascii value: \")\n",
        "print(\"ascii value of {} is {}\".format(char,ord(char)))\n"
      ]
    },
    {
      "cell_type": "code",
      "execution_count": 1,
      "metadata": {
        "colab": {
          "base_uri": "https://localhost:8080/"
        },
        "id": "TduEsC1NvoBu",
        "outputId": "6d8d27e6-cdd5-4daf-fed8-2dca721580fc"
      },
      "outputs": [
        {
          "output_type": "stream",
          "name": "stdout",
          "text": [
            "AVAILABLE OPERATIONS ARE ADDITION(+),SUBTRACTION(-),MULTIPLICATION(*),DIVISION(/)\n",
            "enter your 1st number: 2\n",
            "enter your choice of operation: /\n",
            "enter your 2nd number: 4\n",
            "2.0 / 4.0 = 0.5\n"
          ]
        }
      ],
      "source": [
        "# q5\n",
        "print(\"AVAILABLE OPERATIONS ARE ADDITION(+),SUBTRACTION(-),MULTIPLICATION(*),DIVISION(/)\")\n",
        "num1=float(input(\"enter your 1st number: \"))\n",
        "option=input(\"enter your choice of operation: \")\n",
        "num2=float(input(\"enter your 2nd number: \"))\n",
        "if option =='+':\n",
        "  print(\"{} + {} ={}\".format(num1,num2,num1+num2))\n",
        "elif option=='-':\n",
        "  print(\"{} - {} ={}\".format(num1,num2,num1-num2))\n",
        "elif option=='*':\n",
        "  print(\"{} x {} ={}\".format(num1,num2,num1*num2))\n",
        "elif option=='/':\n",
        "  print(\"{} / {} = {}\".format(num1,num2,num1/num2))\n",
        "else:\n",
        "  print(\"entered operator is not available\")\n",
        "\n",
        "\n"
      ]
    }
  ],
  "metadata": {
    "colab": {
      "name": "assignment-05.ipynb",
      "provenance": []
    },
    "kernelspec": {
      "display_name": "Python 3",
      "name": "python3"
    },
    "language_info": {
      "name": "python"
    }
  },
  "nbformat": 4,
  "nbformat_minor": 0
}