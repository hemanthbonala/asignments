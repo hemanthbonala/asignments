{
  "nbformat": 4,
  "nbformat_minor": 0,
  "metadata": {
    "colab": {
      "name": "assignment-06.ipynb",
      "provenance": []
    },
    "kernelspec": {
      "name": "python3",
      "display_name": "Python 3"
    },
    "language_info": {
      "name": "python"
    }
  },
  "cells": [
    {
      "cell_type": "code",
      "execution_count": null,
      "metadata": {
        "id": "QhF6NuQXe9Ef"
      },
      "outputs": [],
      "source": [
        "#q1\n",
        "def getfib(n):\n",
        "   if n <= 1:\n",
        "       return n \n",
        "   else:\n",
        "       return(gefib(n-1) + getfib(n-2))\n",
        "\n",
        "n=int(input(\"enter number: \"))\n",
        "if n < 0:\n",
        "   print(\"invalid number\")\n",
        "else:\n",
        "   for i in range(n):\n",
        "       print(getfib(i))\n",
        "\n"
      ]
    },
    {
      "cell_type": "code",
      "source": [
        "# q2\n",
        "def fact(n):\n",
        "  if n==1 or n==0:\n",
        "    return 1\n",
        "  else:\n",
        "    return n*fact(n-1)\n",
        "n=int(input(\"enter any whole number to find its factorial: \"))\n",
        "if n < 0:\n",
        "  print(\"invald input\")\n",
        "else:\n",
        "  res=fact(n)\n",
        "  print(\"the factorial of {} is {} \".format(n,res))"
      ],
      "metadata": {
        "id": "7sdItctZn7kT"
      },
      "execution_count": null,
      "outputs": []
    },
    {
      "cell_type": "code",
      "source": [
        "# q3\n",
        "weight=float(input(\"enter your weight in kgs: \"))\n",
        "height=float(input(\"enter your height in meters:  \"))\n",
        "bmi=weight/(height**2)\n",
        "print(\"your body mass index is {}\".format(bmi))"
      ],
      "metadata": {
        "colab": {
          "base_uri": "https://localhost:8080/"
        },
        "id": "mnN_FV0LdCLj",
        "outputId": "f7102ff6-1dba-4ad2-d284-1be4313e4786"
      },
      "execution_count": null,
      "outputs": [
        {
          "output_type": "stream",
          "name": "stdout",
          "text": [
            "enter your weight in kgs: 62\n",
            "enter your height in meters:  1.52\n",
            "your body mass index is 26.83518005540166\n"
          ]
        }
      ]
    },
    {
      "cell_type": "code",
      "source": [
        "# q4\n",
        "import math\n",
        "n=float(input(\"enter a number for which you want to calculate natural logarithm: \"))\n",
        "res=math.log(n)\n",
        "print(\"natural logarithm of {} is {} \".format(n,res))"
      ],
      "metadata": {
        "colab": {
          "base_uri": "https://localhost:8080/"
        },
        "id": "HcufmrucbMrK",
        "outputId": "619a0365-eaf5-4e80-f518-36b6183e6a71"
      },
      "execution_count": null,
      "outputs": [
        {
          "output_type": "stream",
          "name": "stdout",
          "text": [
            "enter a number for which you want to calculate natural logarithm: 2.7\n",
            "natural logarithm of 2.7 is 0.9932517730102834 \n"
          ]
        }
      ]
    },
    {
      "cell_type": "code",
      "source": [
        "# q5\n",
        "\n",
        "def cubesum(n):\n",
        "\n",
        "  if n==1:\n",
        "    return 1\n",
        "  else:\n",
        "    return n**3 + cubesum(n-1)\n",
        "    \n",
        "  \n",
        "n=int(input(\"enter a number:to find the cube sum of n natural numbers:  \"))\n",
        "res=cubesum(n)\n",
        "print(\"the cube sum of first {} natural numbers is {}\".format(n,res))\n",
        "    "
      ],
      "metadata": {
        "id": "pWcH_xP1oPCw",
        "colab": {
          "base_uri": "https://localhost:8080/"
        },
        "outputId": "d9dd5b49-7de5-4ba2-b865-29ed921c2371"
      },
      "execution_count": null,
      "outputs": [
        {
          "output_type": "stream",
          "name": "stdout",
          "text": [
            "enter a number:to find the cube sum of n natural numbers:  5\n",
            "the cube sum of first 5 natural numbers is 225\n"
          ]
        }
      ]
    },
    {
      "cell_type": "code",
      "source": [
        ""
      ],
      "metadata": {
        "id": "aJRer_HaaEgK"
      },
      "execution_count": null,
      "outputs": []
    }
  ]
}