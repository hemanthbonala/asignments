{
  "nbformat": 4,
  "nbformat_minor": 0,
  "metadata": {
    "colab": {
      "name": "assignment-1ipynb",
      "provenance": []
    },
    "kernelspec": {
      "name": "python3",
      "display_name": "Python 3"
    },
    "language_info": {
      "name": "python"
    }
  },
  "cells": [
    {
      "cell_type": "code",
      "execution_count": null,
      "metadata": {
        "colab": {
          "base_uri": "https://localhost:8080/"
        },
        "id": "RKK9MPh6MoMp",
        "outputId": "241b3edc-aac6-47bf-aefa-e76c485001d2"
      },
      "outputs": [
        {
          "output_type": "stream",
          "name": "stdout",
          "text": [
            "Hello World\n"
          ]
        }
      ],
      "source": [
        "#q1\n",
        "print(\"Hello World\")"
      ]
    },
    {
      "cell_type": "code",
      "source": [
        "#q2\n",
        "str=input(\"enter your option among addition and division as a and d: \")\n",
        "str2=str.upper()\n",
        "if str2==\"A\":\n",
        "  num1=int(input(\"enter your 1st number: \"))\n",
        "  num2=int(input(\"enter your 2nd number: \"))\n",
        "  res=num1+num2\n",
        "  print(\"addition of {} and {} is {}\".format(num1,num2,res))\n",
        "elif str2==\"D\":\n",
        "  num1=int(input(\"enter your 1st number: \"))\n",
        "  num2=int(input(\"enter your 2nd number: \"))\n",
        "  res=num1/num2\n",
        "  print(\"division of {} and {} is {}\".format(num1,num2,res))\n",
        "\n",
        "else:\n",
        "  print((\"invalid output\"))\n"
      ],
      "metadata": {
        "colab": {
          "base_uri": "https://localhost:8080/"
        },
        "id": "7n8cxgriM5vg",
        "outputId": "aa80f663-631b-49f3-8ae5-38f9bc041a78"
      },
      "execution_count": null,
      "outputs": [
        {
          "output_type": "stream",
          "name": "stdout",
          "text": [
            "enter your option among addition and division as a and d: a\n",
            "enter your 1st number: 1\n",
            "enter your 2nd number: 2\n",
            "addition of 1 and 2 is 3\n"
          ]
        }
      ]
    },
    {
      "cell_type": "code",
      "source": [
        "#q3 program to find area of triangles\n",
        "print(\"enter 3sides of triangle\")\n",
        "side1=float(input(\"enter 1st side of triangle: \"))\n",
        "side2=float(input(\"enter 2nd side of triangle: \"))\n",
        "side3=float(input(\"enter 3rd side of triangle: \"))\n",
        "s=(side1+side2+side3)/2\n",
        "area=((s)*(s-side1)*(s-side2)*(s-side3))**(1/2)\n",
        "print(\"area of given triangle is \",area)\n"
      ],
      "metadata": {
        "colab": {
          "base_uri": "https://localhost:8080/"
        },
        "id": "kW9MklQ5ONvV",
        "outputId": "3b385085-de75-42f3-bc17-19e6b24312e9"
      },
      "execution_count": null,
      "outputs": [
        {
          "output_type": "stream",
          "name": "stdout",
          "text": [
            "enter 3sides of triangle\n",
            "enter 1st side of triangle: 3\n",
            "enter 2nd side of triangle: 4\n",
            "enter 3rd side of triangle: 5\n",
            "area of given triangle is  6.0\n"
          ]
        }
      ]
    },
    {
      "cell_type": "code",
      "source": [
        "# q4 swapping using 3rd variable\n",
        "print(\"enter two values to swap\")\n",
        "num1=int(input(\"enter 1st integer: \"))\n",
        "num2=int(input(\"enter 2nd integer: \"))\n",
        "temp=num1\n",
        "num1=num2\n",
        "num2=temp\n",
        "print(\"after swapping 1st integer is \",num1)\n",
        "print(\"after swapping 2nd integer is \",num2)\n",
        "\n"
      ],
      "metadata": {
        "colab": {
          "base_uri": "https://localhost:8080/"
        },
        "id": "87Xmwp_SP7rr",
        "outputId": "eb7d86d3-cc04-4535-88c6-5eeb44c22da8"
      },
      "execution_count": null,
      "outputs": [
        {
          "output_type": "stream",
          "name": "stdout",
          "text": [
            "enter two values to swap\n",
            "enter 1st integer: 2\n",
            "enter 2nd integer: 3\n",
            "after swapping 1st integer is  3\n",
            "after swapping 2nd integer is  2\n"
          ]
        }
      ]
    },
    {
      "cell_type": "code",
      "source": [
        "# q4 swapping without using 3rd variable\n",
        "print(\"enter two values to swap\")\n",
        "num1=int(input(\"enter 1st integer: \"))\n",
        "num2=int(input(\"enter 2nd integer: \"))\n",
        "num1,num2=num2,num1\n",
        "print(\"after swapping 1st integer is \",num1)\n",
        "print(\"after swapping 2nd integer is \",num2)\n"
      ],
      "metadata": {
        "colab": {
          "base_uri": "https://localhost:8080/"
        },
        "id": "QTto06QbRHuK",
        "outputId": "450407a8-57bc-46e8-a45c-0191cb33d02a"
      },
      "execution_count": null,
      "outputs": [
        {
          "output_type": "stream",
          "name": "stdout",
          "text": [
            "enter two values to swap\n",
            "enter 1st integer: 1\n",
            "enter 2nd integer: 2\n",
            "after swapping 1st integer is  2\n",
            "after swapping 2nd integer is  1\n"
          ]
        }
      ]
    },
    {
      "cell_type": "code",
      "source": [
        "# q5 generating random number \n",
        "import random\n",
        "print(\"the range of random numbers to generate\")\n",
        "low=int(input(\"enter lower limit: \"))\n",
        "hig=int(input(\"enter higher limit: \"))\n",
        "n=random.randint(low,hig)\n",
        "print(\"generated random number between {} and {} is {}\".format(low,hig,n))"
      ],
      "metadata": {
        "colab": {
          "base_uri": "https://localhost:8080/"
        },
        "id": "T1SZ53k3RbWv",
        "outputId": "3eb1ffa6-2557-4b9a-b9a4-44d4e64bfe2d"
      },
      "execution_count": null,
      "outputs": [
        {
          "output_type": "stream",
          "name": "stdout",
          "text": [
            "the range of random numbers to generate\n",
            "enter lower limit: 0\n",
            "enter higher limit: 5\n",
            "generated random number between 0 and 5 is 0\n"
          ]
        }
      ]
    },
    {
      "cell_type": "code",
      "source": [
        " "
      ],
      "metadata": {
        "id": "WBrPGIlqSqQ7"
      },
      "execution_count": null,
      "outputs": []
    },
    {
      "cell_type": "code",
      "source": [
        ""
      ],
      "metadata": {
        "id": "UVX9BKUSS0zV"
      },
      "execution_count": null,
      "outputs": []
    }
  ]
}