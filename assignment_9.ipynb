{
  "nbformat": 4,
  "nbformat_minor": 0,
  "metadata": {
    "colab": {
      "name": "assignment-9.ipynb",
      "provenance": []
    },
    "kernelspec": {
      "name": "python3",
      "display_name": "Python 3"
    },
    "language_info": {
      "name": "python"
    }
  },
  "cells": [
    {
      "cell_type": "markdown",
      "source": [
        "question-1\n"
      ],
      "metadata": {
        "id": "4_OLlBWUDaUp"
      }
    },
    {
      "cell_type": "code",
      "execution_count": null,
      "metadata": {
        "colab": {
          "base_uri": "https://localhost:8080/"
        },
        "id": "38wa54fiDXq_",
        "outputId": "1dbe4292-f8dd-40ae-95d7-140e01152db9"
      },
      "outputs": [
        {
          "output_type": "stream",
          "name": "stdout",
          "text": [
            "enter a number to check whether it is a Disarium Number:  89\n",
            "the entered number is disarium number \n"
          ]
        }
      ],
      "source": [
        "num=int(input(\"enter a number to check whether it is a Disarium Number:  \"))\n",
        "temp=num\n",
        "digits=0\n",
        "while(num):\n",
        "  num=(int)(num/10)\n",
        "  digits+=1\n",
        "num=temp\n",
        "count=0\n",
        "sum=0\n",
        "while(num):\n",
        "  rem=num%10\n",
        "  sum+=pow(rem,digits-count)\n",
        "  num=(int)(num/10)\n",
        "  count+=1\n",
        "if(sum==temp):\n",
        "  print(\"the entered number is disarium number \")\n",
        "else:\n",
        "  print(\"the entered number is not a disarium number \")\n",
        "\n",
        "\n"
      ]
    },
    {
      "cell_type": "markdown",
      "source": [
        "question-2"
      ],
      "metadata": {
        "id": "qxcBDs1VFc5S"
      }
    },
    {
      "cell_type": "code",
      "source": [
        "print(\"the disarium numbers between 1 to 100 are: \\n\")\n",
        "for num in range(1,101):\n",
        "  temp=num\n",
        "  digits=0\n",
        "  while(num):\n",
        "    num=(int)(num/10)\n",
        "    digits+=1\n",
        "  num=temp\n",
        "  count=0\n",
        "  sum=0\n",
        "  while(num):\n",
        "    rem=num%10\n",
        "    sum+=pow(rem,digits-count)\n",
        "    num=(int)(num/10)\n",
        "    count+=1\n",
        "  num=temp\n",
        "  if(sum==num):\n",
        "    print(\"{}\".format(num))\n",
        "  \n",
        "\n",
        "\n"
      ],
      "metadata": {
        "colab": {
          "base_uri": "https://localhost:8080/"
        },
        "id": "Rdzj9n5eFaf8",
        "outputId": "2a5af5bd-f080-48cd-e590-39af1d5b62ca"
      },
      "execution_count": null,
      "outputs": [
        {
          "output_type": "stream",
          "name": "stdout",
          "text": [
            "the disarium numbers between 1 to 100 are: \n",
            "\n",
            "1\n",
            "2\n",
            "3\n",
            "4\n",
            "5\n",
            "6\n",
            "7\n",
            "8\n",
            "9\n",
            "89\n"
          ]
        }
      ]
    },
    {
      "cell_type": "markdown",
      "source": [
        "question-3"
      ],
      "metadata": {
        "id": "q64jdKPSQccj"
      }
    },
    {
      "cell_type": "code",
      "source": [
        "def numsquare(n):\n",
        "  sum=0\n",
        "  while(n):\n",
        "    sum+=(n%10)*(n%10)\n",
        "    n=(int)(n/10)\n",
        "  return sum\n",
        "\n",
        "\n",
        "def is_happy_num(n):\n",
        "  st=set()\n",
        "  while(1):\n",
        "    n=numsquare(n)\n",
        "    if(n==1):\n",
        "      return True\n",
        "    elif n in st:\n",
        "      return False\n",
        "    st.add(n)\n",
        "if __name__==\"__main__\":\n",
        "  num=int(input(\"enter a number to check whether it is a Happy Number:  \"))\n",
        "  if(is_happy_num(num)):\n",
        "    print(\"{} is a happy number \".format(num))\n",
        "  else:\n",
        "    print(\"{} is not a  happy number \".format(num))\n",
        "\n",
        "\n",
        "\n"
      ],
      "metadata": {
        "id": "W_T4GB2SHqLF",
        "colab": {
          "base_uri": "https://localhost:8080/"
        },
        "outputId": "ecfb8161-b590-439b-f63f-8b48f612ecb9"
      },
      "execution_count": 2,
      "outputs": [
        {
          "output_type": "stream",
          "name": "stdout",
          "text": [
            "enter a number to check whether it is a Happy Number:  13\n",
            "13 is a happy number \n"
          ]
        }
      ]
    },
    {
      "cell_type": "code",
      "source": [
        "def numsquare(n):\n",
        "  sum=0\n",
        "  while(n):\n",
        "    sum+=(n%10)*(n%10)\n",
        "    n=(int)(n/10)\n",
        "  return sum\n",
        "\n",
        "\n",
        "def is_happy_num(n):\n",
        "  st=set()\n",
        "  while(1):\n",
        "    n=numsquare(n)\n",
        "    if(n==1):\n",
        "      return True\n",
        "    elif n in st:\n",
        "      return False\n",
        "    st.add(n)\n",
        "if __name__==\"__main__\":\n",
        "  print(\"happy numbers between 1 to 100 are: \")\n",
        "  for num in range(1,101):\n",
        "    if(is_happy_num(num)):\n",
        "      print(\"{} \".format(num))\n",
        "  "
      ],
      "metadata": {
        "colab": {
          "base_uri": "https://localhost:8080/"
        },
        "id": "cVTTzjsqF2jz",
        "outputId": "75e395be-6fd4-4d96-b5c4-844083615ba7"
      },
      "execution_count": 3,
      "outputs": [
        {
          "output_type": "stream",
          "name": "stdout",
          "text": [
            "happy numbers between 1 to 100 are: \n",
            "1 \n",
            "7 \n",
            "10 \n",
            "13 \n",
            "19 \n",
            "23 \n",
            "28 \n",
            "31 \n",
            "32 \n",
            "44 \n",
            "49 \n",
            "68 \n",
            "70 \n",
            "79 \n",
            "82 \n",
            "86 \n",
            "91 \n",
            "94 \n",
            "97 \n",
            "100 \n"
          ]
        }
      ]
    },
    {
      "cell_type": "markdown",
      "source": [
        "question-5\n"
      ],
      "metadata": {
        "id": "mIEhYkkCG4aT"
      }
    },
    {
      "cell_type": "code",
      "source": [
        "def is_harshad_num(n):\n",
        "  sum=0\n",
        "  temp=n\n",
        "  while(temp):\n",
        "    sum+=temp%10\n",
        "    temp=int(temp/10)\n",
        "  if n%sum==0:\n",
        "    return True\n",
        "  else:\n",
        "    return False\n",
        "if __name__==\"__main__\":\n",
        "  num=int(input(\"enter a number to check whether it is a Harshad  Number:  \"))\n",
        "  if(is_harshad_num(num)):\n",
        "    print(\"{} is a harshad number\".format(num))\n",
        "  else:\n",
        "    print(\"{} is not a harshad number\".format(num))\n"
      ],
      "metadata": {
        "colab": {
          "base_uri": "https://localhost:8080/"
        },
        "id": "PKIaL-fWGnxA",
        "outputId": "660a7292-30ad-496b-c5eb-8e3a250cd93f"
      },
      "execution_count": 4,
      "outputs": [
        {
          "output_type": "stream",
          "name": "stdout",
          "text": [
            "enter a number to check whether it is a Harshad  Number:  156\n",
            "156 is a harshad number\n"
          ]
        }
      ]
    },
    {
      "cell_type": "markdown",
      "source": [
        "question-6"
      ],
      "metadata": {
        "id": "d1686OQsK8sV"
      }
    },
    {
      "cell_type": "code",
      "source": [
        "def pronic_num(low,high):\n",
        "  l=[]\n",
        "  for i in range(low,high):\n",
        "    for j in range (1,i+1):\n",
        "      if j*(j+1)==i:\n",
        "        l.append(i)\n",
        "        break\n",
        "  return l\n",
        "\n",
        "if __name__=='__main__':\n",
        "  res=pronic_num(1,101)\n",
        "  for num in res:\n",
        "    print(num)\n",
        "        \n",
        "    "
      ],
      "metadata": {
        "colab": {
          "base_uri": "https://localhost:8080/"
        },
        "id": "zd9m9yTBHtwE",
        "outputId": "4feb9299-0d90-457f-eb2f-c403c7479bfb"
      },
      "execution_count": 12,
      "outputs": [
        {
          "output_type": "stream",
          "name": "stdout",
          "text": [
            "2\n",
            "6\n",
            "12\n",
            "20\n",
            "30\n",
            "42\n",
            "56\n",
            "72\n",
            "90\n"
          ]
        }
      ]
    },
    {
      "cell_type": "code",
      "source": [
        ""
      ],
      "metadata": {
        "id": "s0qIavIsJChw"
      },
      "execution_count": null,
      "outputs": []
    }
  ]
}